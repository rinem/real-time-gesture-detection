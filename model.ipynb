{
 "cells": [
  {
   "cell_type": "code",
   "execution_count": 1,
   "metadata": {},
   "outputs": [],
   "source": [
    "import cv2\n",
    "import numpy as np # We'll be storing our data as numpy arrays\n",
    "import os # For handling directories\n",
    "from PIL import Image # For handling the images\n",
    "import matplotlib.pyplot as plt\n",
    "import matplotlib.image as mpimg # Plotting"
   ]
  },
  {
   "cell_type": "code",
   "execution_count": 2,
   "metadata": {},
   "outputs": [],
   "source": [
    "%matplotlib inline"
   ]
  },
  {
   "cell_type": "code",
   "execution_count": 3,
   "metadata": {},
   "outputs": [
    {
     "data": {
      "text/plain": [
       "'D:\\\\gesture-recognition'"
      ]
     },
     "execution_count": 3,
     "metadata": {},
     "output_type": "execute_result"
    }
   ],
   "source": [
    "pwd"
   ]
  },
  {
   "cell_type": "code",
   "execution_count": 4,
   "metadata": {},
   "outputs": [],
   "source": [
    "lookup = dict()\n",
    "reverselookup = dict()\n",
    "count = 0\n",
    "for j in os.listdir('data/'):\n",
    "    if not j.startswith('.'): # If running this code locally, this is to \n",
    "                              # ensure you aren't reading in hidden folders\n",
    "        lookup[j] = count\n",
    "        reverselookup[count] = j\n",
    "        count = count + 1\n"
   ]
  },
  {
   "cell_type": "code",
   "execution_count": 5,
   "metadata": {},
   "outputs": [
    {
     "data": {
      "text/plain": [
       "{'fist': 0, 'index': 1, 'L': 2, 'ok': 3, 'palm': 4, 'peace': 5}"
      ]
     },
     "execution_count": 5,
     "metadata": {},
     "output_type": "execute_result"
    }
   ],
   "source": [
    "lookup"
   ]
  },
  {
   "cell_type": "code",
   "execution_count": 6,
   "metadata": {},
   "outputs": [
    {
     "data": {
      "text/plain": [
       "{0: 'fist', 1: 'index', 2: 'L', 3: 'ok', 4: 'palm', 5: 'peace'}"
      ]
     },
     "execution_count": 6,
     "metadata": {},
     "output_type": "execute_result"
    }
   ],
   "source": [
    "reverselookup"
   ]
  },
  {
   "cell_type": "code",
   "execution_count": 7,
   "metadata": {},
   "outputs": [],
   "source": [
    "x_data = []\n",
    "y_data = []\n",
    "datacount = 0 \n",
    " # Loop over the ten top-level folders\n",
    "for j in os.listdir('data/'):\n",
    "    if not j.startswith('.'): # Again avoid hidden folders\n",
    "        count = 0 # To tally images of a given gesture\n",
    "        for k in os.listdir('data/' + j + '/'):\n",
    "                            # Loop over the images\n",
    "            img = Image.open('data/' + j + '/' + k)\n",
    "                            # Read in and convert to greyscale\n",
    "            arr = np.array(img)\n",
    "            x_data.append(arr) \n",
    "            count = count + 1\n",
    "        y_values = np.full((count, 1), lookup[j]) \n",
    "        y_data.append(y_values)\n",
    "        datacount = datacount + count"
   ]
  },
  {
   "cell_type": "code",
   "execution_count": 8,
   "metadata": {},
   "outputs": [],
   "source": [
    "x_data = np.array(x_data, dtype = 'float32')\n",
    "y_data = np.array(y_data)\n",
    "y_data = y_data.reshape(datacount, 1)"
   ]
  },
  {
   "cell_type": "code",
   "execution_count": 9,
   "metadata": {},
   "outputs": [
    {
     "data": {
      "text/plain": [
       "(900, 300, 300)"
      ]
     },
     "execution_count": 9,
     "metadata": {},
     "output_type": "execute_result"
    }
   ],
   "source": [
    "x_data.shape"
   ]
  },
  {
   "cell_type": "code",
   "execution_count": 10,
   "metadata": {},
   "outputs": [
    {
     "data": {
      "text/plain": [
       "(900, 1)"
      ]
     },
     "execution_count": 10,
     "metadata": {},
     "output_type": "execute_result"
    }
   ],
   "source": [
    "y_data.shape"
   ]
  },
  {
   "cell_type": "code",
   "execution_count": 14,
   "metadata": {},
   "outputs": [
    {
     "name": "stderr",
     "output_type": "stream",
     "text": [
      "Using TensorFlow backend.\n",
      "d:\\mltensor\\lib\\site-packages\\tensorflow\\python\\framework\\dtypes.py:516: FutureWarning: Passing (type, 1) or '1type' as a synonym of type is deprecated; in a future version of numpy, it will be understood as (type, (1,)) / '(1,)type'.\n",
      "  _np_qint8 = np.dtype([(\"qint8\", np.int8, 1)])\n",
      "d:\\mltensor\\lib\\site-packages\\tensorflow\\python\\framework\\dtypes.py:517: FutureWarning: Passing (type, 1) or '1type' as a synonym of type is deprecated; in a future version of numpy, it will be understood as (type, (1,)) / '(1,)type'.\n",
      "  _np_quint8 = np.dtype([(\"quint8\", np.uint8, 1)])\n",
      "d:\\mltensor\\lib\\site-packages\\tensorflow\\python\\framework\\dtypes.py:518: FutureWarning: Passing (type, 1) or '1type' as a synonym of type is deprecated; in a future version of numpy, it will be understood as (type, (1,)) / '(1,)type'.\n",
      "  _np_qint16 = np.dtype([(\"qint16\", np.int16, 1)])\n",
      "d:\\mltensor\\lib\\site-packages\\tensorflow\\python\\framework\\dtypes.py:519: FutureWarning: Passing (type, 1) or '1type' as a synonym of type is deprecated; in a future version of numpy, it will be understood as (type, (1,)) / '(1,)type'.\n",
      "  _np_quint16 = np.dtype([(\"quint16\", np.uint16, 1)])\n",
      "d:\\mltensor\\lib\\site-packages\\tensorflow\\python\\framework\\dtypes.py:520: FutureWarning: Passing (type, 1) or '1type' as a synonym of type is deprecated; in a future version of numpy, it will be understood as (type, (1,)) / '(1,)type'.\n",
      "  _np_qint32 = np.dtype([(\"qint32\", np.int32, 1)])\n",
      "d:\\mltensor\\lib\\site-packages\\tensorflow\\python\\framework\\dtypes.py:525: FutureWarning: Passing (type, 1) or '1type' as a synonym of type is deprecated; in a future version of numpy, it will be understood as (type, (1,)) / '(1,)type'.\n",
      "  np_resource = np.dtype([(\"resource\", np.ubyte, 1)])\n",
      "d:\\mltensor\\lib\\site-packages\\tensorboard\\compat\\tensorflow_stub\\dtypes.py:541: FutureWarning: Passing (type, 1) or '1type' as a synonym of type is deprecated; in a future version of numpy, it will be understood as (type, (1,)) / '(1,)type'.\n",
      "  _np_qint8 = np.dtype([(\"qint8\", np.int8, 1)])\n",
      "d:\\mltensor\\lib\\site-packages\\tensorboard\\compat\\tensorflow_stub\\dtypes.py:542: FutureWarning: Passing (type, 1) or '1type' as a synonym of type is deprecated; in a future version of numpy, it will be understood as (type, (1,)) / '(1,)type'.\n",
      "  _np_quint8 = np.dtype([(\"quint8\", np.uint8, 1)])\n",
      "d:\\mltensor\\lib\\site-packages\\tensorboard\\compat\\tensorflow_stub\\dtypes.py:543: FutureWarning: Passing (type, 1) or '1type' as a synonym of type is deprecated; in a future version of numpy, it will be understood as (type, (1,)) / '(1,)type'.\n",
      "  _np_qint16 = np.dtype([(\"qint16\", np.int16, 1)])\n",
      "d:\\mltensor\\lib\\site-packages\\tensorboard\\compat\\tensorflow_stub\\dtypes.py:544: FutureWarning: Passing (type, 1) or '1type' as a synonym of type is deprecated; in a future version of numpy, it will be understood as (type, (1,)) / '(1,)type'.\n",
      "  _np_quint16 = np.dtype([(\"quint16\", np.uint16, 1)])\n",
      "d:\\mltensor\\lib\\site-packages\\tensorboard\\compat\\tensorflow_stub\\dtypes.py:545: FutureWarning: Passing (type, 1) or '1type' as a synonym of type is deprecated; in a future version of numpy, it will be understood as (type, (1,)) / '(1,)type'.\n",
      "  _np_qint32 = np.dtype([(\"qint32\", np.int32, 1)])\n",
      "d:\\mltensor\\lib\\site-packages\\tensorboard\\compat\\tensorflow_stub\\dtypes.py:550: FutureWarning: Passing (type, 1) or '1type' as a synonym of type is deprecated; in a future version of numpy, it will be understood as (type, (1,)) / '(1,)type'.\n",
      "  np_resource = np.dtype([(\"resource\", np.ubyte, 1)])\n"
     ]
    }
   ],
   "source": [
    "from keras.utils import to_categorical\n",
    "y_data = to_categorical(y_data)"
   ]
  },
  {
   "cell_type": "code",
   "execution_count": 15,
   "metadata": {},
   "outputs": [
    {
     "data": {
      "text/plain": [
       "(900, 6)"
      ]
     },
     "execution_count": 15,
     "metadata": {},
     "output_type": "execute_result"
    }
   ],
   "source": [
    "y_data.shape"
   ]
  },
  {
   "cell_type": "code",
   "execution_count": 16,
   "metadata": {},
   "outputs": [
    {
     "data": {
      "text/plain": [
       "(900, 300, 300, 1)"
      ]
     },
     "execution_count": 16,
     "metadata": {},
     "output_type": "execute_result"
    }
   ],
   "source": [
    "x_data = x_data.reshape((datacount, 300, 300, 1))\n",
    "x_data /= 255\n",
    "x_data.shape"
   ]
  },
  {
   "cell_type": "code",
   "execution_count": 17,
   "metadata": {},
   "outputs": [],
   "source": [
    "from sklearn.model_selection import train_test_split\n",
    "x_train,x_further,y_train,y_further = train_test_split(x_data,y_data,test_size = 0.2)\n",
    "x_validate,x_test,y_validate,y_test = train_test_split(x_further,y_further,test_size = 0.5)"
   ]
  },
  {
   "cell_type": "code",
   "execution_count": 18,
   "metadata": {},
   "outputs": [],
   "source": [
    "from keras import layers\n",
    "from keras import models"
   ]
  },
  {
   "cell_type": "code",
   "execution_count": 19,
   "metadata": {},
   "outputs": [
    {
     "name": "stderr",
     "output_type": "stream",
     "text": [
      "WARNING: Logging before flag parsing goes to stderr.\n",
      "W1009 10:29:15.111840  8304 deprecation_wrapper.py:119] From d:\\mltensor\\lib\\site-packages\\keras\\backend\\tensorflow_backend.py:74: The name tf.get_default_graph is deprecated. Please use tf.compat.v1.get_default_graph instead.\n",
      "\n",
      "W1009 10:29:15.137838  8304 deprecation_wrapper.py:119] From d:\\mltensor\\lib\\site-packages\\keras\\backend\\tensorflow_backend.py:517: The name tf.placeholder is deprecated. Please use tf.compat.v1.placeholder instead.\n",
      "\n",
      "W1009 10:29:15.142841  8304 deprecation_wrapper.py:119] From d:\\mltensor\\lib\\site-packages\\keras\\backend\\tensorflow_backend.py:4138: The name tf.random_uniform is deprecated. Please use tf.random.uniform instead.\n",
      "\n",
      "W1009 10:29:15.184841  8304 deprecation_wrapper.py:119] From d:\\mltensor\\lib\\site-packages\\keras\\backend\\tensorflow_backend.py:3976: The name tf.nn.max_pool is deprecated. Please use tf.nn.max_pool2d instead.\n",
      "\n"
     ]
    }
   ],
   "source": [
    "model=models.Sequential()\n",
    "model.add(layers.Conv2D(32, (5, 5), strides=(2, 2), activation='relu', input_shape=(300, 300,1))) \n",
    "model.add(layers.MaxPooling2D((2, 2)))\n",
    "model.add(layers.Conv2D(64, (3, 3), activation='relu')) \n",
    "model.add(layers.MaxPooling2D((2, 2)))\n",
    "model.add(layers.Conv2D(64, (3, 3), activation='relu'))\n",
    "model.add(layers.MaxPooling2D((2, 2)))\n",
    "model.add(layers.Flatten())\n",
    "model.add(layers.Dense(128, activation='relu'))\n",
    "model.add(layers.Dense(6, activation='softmax'))"
   ]
  },
  {
   "cell_type": "code",
   "execution_count": 20,
   "metadata": {},
   "outputs": [
    {
     "name": "stdout",
     "output_type": "stream",
     "text": [
      "_________________________________________________________________\n",
      "Layer (type)                 Output Shape              Param #   \n",
      "=================================================================\n",
      "conv2d_1 (Conv2D)            (None, 148, 148, 32)      832       \n",
      "_________________________________________________________________\n",
      "max_pooling2d_1 (MaxPooling2 (None, 74, 74, 32)        0         \n",
      "_________________________________________________________________\n",
      "conv2d_2 (Conv2D)            (None, 72, 72, 64)        18496     \n",
      "_________________________________________________________________\n",
      "max_pooling2d_2 (MaxPooling2 (None, 36, 36, 64)        0         \n",
      "_________________________________________________________________\n",
      "conv2d_3 (Conv2D)            (None, 34, 34, 64)        36928     \n",
      "_________________________________________________________________\n",
      "max_pooling2d_3 (MaxPooling2 (None, 17, 17, 64)        0         \n",
      "_________________________________________________________________\n",
      "flatten_1 (Flatten)          (None, 18496)             0         \n",
      "_________________________________________________________________\n",
      "dense_1 (Dense)              (None, 128)               2367616   \n",
      "_________________________________________________________________\n",
      "dense_2 (Dense)              (None, 6)                 774       \n",
      "=================================================================\n",
      "Total params: 2,424,646\n",
      "Trainable params: 2,424,646\n",
      "Non-trainable params: 0\n",
      "_________________________________________________________________\n"
     ]
    }
   ],
   "source": [
    "model.summary()"
   ]
  },
  {
   "cell_type": "code",
   "execution_count": 144,
   "metadata": {},
   "outputs": [
    {
     "name": "stdout",
     "output_type": "stream",
     "text": [
      "Train on 720 samples, validate on 90 samples\n",
      "Epoch 1/50\n",
      "720/720 [==============================] - 2s 2ms/step - loss: 0.9113 - acc: 0.9222 - val_loss: 0.0641 - val_acc: 0.9667\n",
      "Epoch 2/50\n",
      "720/720 [==============================] - 1s 2ms/step - loss: 0.0014 - acc: 1.0000 - val_loss: 0.0891 - val_acc: 0.9667\n",
      "Epoch 3/50\n",
      "720/720 [==============================] - 1s 2ms/step - loss: 4.2491e-04 - acc: 1.0000 - val_loss: 0.0881 - val_acc: 0.9778\n",
      "Epoch 4/50\n",
      "720/720 [==============================] - 1s 2ms/step - loss: 2.0092e-04 - acc: 1.0000 - val_loss: 0.1087 - val_acc: 0.9667\n",
      "Epoch 5/50\n",
      "720/720 [==============================] - 1s 2ms/step - loss: 1.0315e-04 - acc: 1.0000 - val_loss: 0.0958 - val_acc: 0.9667\n",
      "Epoch 6/50\n",
      "720/720 [==============================] - 1s 2ms/step - loss: 4.9769e-05 - acc: 1.0000 - val_loss: 0.0886 - val_acc: 0.9778\n",
      "Epoch 7/50\n",
      "720/720 [==============================] - 1s 2ms/step - loss: 2.5497e-05 - acc: 1.0000 - val_loss: 0.0858 - val_acc: 0.9778\n",
      "Epoch 8/50\n",
      "720/720 [==============================] - 1s 2ms/step - loss: 1.3320e-05 - acc: 1.0000 - val_loss: 0.0876 - val_acc: 0.9778\n",
      "Epoch 9/50\n",
      "720/720 [==============================] - 1s 2ms/step - loss: 7.1905e-06 - acc: 1.0000 - val_loss: 0.0794 - val_acc: 0.9778\n",
      "Epoch 10/50\n",
      "720/720 [==============================] - 1s 2ms/step - loss: 3.6231e-06 - acc: 1.0000 - val_loss: 0.0837 - val_acc: 0.9778\n",
      "Epoch 11/50\n",
      "720/720 [==============================] - 1s 2ms/step - loss: 1.9463e-06 - acc: 1.0000 - val_loss: 0.0819 - val_acc: 0.9778\n",
      "Epoch 12/50\n",
      "720/720 [==============================] - 1s 2ms/step - loss: 1.0463e-06 - acc: 1.0000 - val_loss: 0.0727 - val_acc: 0.9778\n",
      "Epoch 13/50\n",
      "720/720 [==============================] - 1s 2ms/step - loss: 5.5623e-07 - acc: 1.0000 - val_loss: 0.0773 - val_acc: 0.9778\n",
      "Epoch 14/50\n",
      "720/720 [==============================] - 1s 2ms/step - loss: 3.3511e-07 - acc: 1.0000 - val_loss: 0.0800 - val_acc: 0.9778\n",
      "Epoch 15/50\n",
      "720/720 [==============================] - 1s 2ms/step - loss: 2.2261e-07 - acc: 1.0000 - val_loss: 0.0819 - val_acc: 0.9778\n",
      "Epoch 16/50\n",
      "720/720 [==============================] - 1s 2ms/step - loss: 1.6722e-07 - acc: 1.0000 - val_loss: 0.0829 - val_acc: 0.9889\n",
      "Epoch 17/50\n",
      "720/720 [==============================] - 1s 2ms/step - loss: 1.4140e-07 - acc: 1.0000 - val_loss: 0.0840 - val_acc: 0.9889\n",
      "Epoch 18/50\n",
      "720/720 [==============================] - 1s 2ms/step - loss: 1.2674e-07 - acc: 1.0000 - val_loss: 0.0862 - val_acc: 0.9889\n",
      "Epoch 19/50\n",
      "720/720 [==============================] - 1s 2ms/step - loss: 1.2227e-07 - acc: 1.0000 - val_loss: 0.0882 - val_acc: 0.9889\n",
      "Epoch 20/50\n",
      "720/720 [==============================] - 1s 2ms/step - loss: 1.2004e-07 - acc: 1.0000 - val_loss: 0.0885 - val_acc: 0.9889\n",
      "Epoch 21/50\n",
      "720/720 [==============================] - 1s 2ms/step - loss: 1.1937e-07 - acc: 1.0000 - val_loss: 0.0906 - val_acc: 0.9889\n",
      "Epoch 22/50\n",
      "720/720 [==============================] - 1s 2ms/step - loss: 1.1921e-07 - acc: 1.0000 - val_loss: 0.0922 - val_acc: 0.9889\n",
      "Epoch 23/50\n",
      "720/720 [==============================] - 1s 2ms/step - loss: 1.1921e-07 - acc: 1.0000 - val_loss: 0.0941 - val_acc: 0.9778\n",
      "Epoch 24/50\n",
      "720/720 [==============================] - 1s 2ms/step - loss: 1.1921e-07 - acc: 1.0000 - val_loss: 0.0948 - val_acc: 0.9778\n",
      "Epoch 25/50\n",
      "720/720 [==============================] - 1s 2ms/step - loss: 1.1921e-07 - acc: 1.0000 - val_loss: 0.0948 - val_acc: 0.9778\n",
      "Epoch 26/50\n",
      "720/720 [==============================] - 1s 2ms/step - loss: 1.1921e-07 - acc: 1.0000 - val_loss: 0.0948 - val_acc: 0.9778\n",
      "Epoch 27/50\n",
      "720/720 [==============================] - 1s 2ms/step - loss: 1.1921e-07 - acc: 1.0000 - val_loss: 0.0948 - val_acc: 0.9778\n",
      "Epoch 28/50\n",
      "720/720 [==============================] - 1s 2ms/step - loss: 1.1921e-07 - acc: 1.0000 - val_loss: 0.0948 - val_acc: 0.9778\n",
      "Epoch 29/50\n",
      "720/720 [==============================] - 1s 2ms/step - loss: 1.1921e-07 - acc: 1.0000 - val_loss: 0.0948 - val_acc: 0.9778\n",
      "Epoch 30/50\n",
      "720/720 [==============================] - 1s 2ms/step - loss: 1.1921e-07 - acc: 1.0000 - val_loss: 0.0948 - val_acc: 0.9778\n",
      "Epoch 31/50\n",
      "720/720 [==============================] - 1s 2ms/step - loss: 1.1921e-07 - acc: 1.0000 - val_loss: 0.0948 - val_acc: 0.9778\n",
      "Epoch 32/50\n",
      "720/720 [==============================] - 1s 2ms/step - loss: 1.1921e-07 - acc: 1.0000 - val_loss: 0.0948 - val_acc: 0.9778\n",
      "Epoch 33/50\n",
      "720/720 [==============================] - 1s 2ms/step - loss: 1.1921e-07 - acc: 1.0000 - val_loss: 0.0948 - val_acc: 0.9778\n",
      "Epoch 34/50\n",
      "720/720 [==============================] - 1s 2ms/step - loss: 1.1921e-07 - acc: 1.0000 - val_loss: 0.0948 - val_acc: 0.9778\n",
      "Epoch 35/50\n",
      "720/720 [==============================] - 1s 2ms/step - loss: 1.1921e-07 - acc: 1.0000 - val_loss: 0.0948 - val_acc: 0.9778\n",
      "Epoch 36/50\n",
      "720/720 [==============================] - 1s 2ms/step - loss: 1.1921e-07 - acc: 1.0000 - val_loss: 0.0948 - val_acc: 0.9778\n",
      "Epoch 37/50\n",
      "720/720 [==============================] - 1s 2ms/step - loss: 1.1921e-07 - acc: 1.0000 - val_loss: 0.0948 - val_acc: 0.9778\n",
      "Epoch 38/50\n",
      "720/720 [==============================] - 1s 2ms/step - loss: 1.1921e-07 - acc: 1.0000 - val_loss: 0.0948 - val_acc: 0.9778\n",
      "Epoch 39/50\n",
      "720/720 [==============================] - 1s 2ms/step - loss: 1.1921e-07 - acc: 1.0000 - val_loss: 0.0948 - val_acc: 0.9778\n",
      "Epoch 40/50\n",
      "720/720 [==============================] - 1s 2ms/step - loss: 1.1921e-07 - acc: 1.0000 - val_loss: 0.0948 - val_acc: 0.9778\n",
      "Epoch 41/50\n",
      "720/720 [==============================] - 1s 2ms/step - loss: 1.1921e-07 - acc: 1.0000 - val_loss: 0.0948 - val_acc: 0.9778\n",
      "Epoch 42/50\n",
      "720/720 [==============================] - 1s 2ms/step - loss: 1.1921e-07 - acc: 1.0000 - val_loss: 0.0948 - val_acc: 0.9778\n",
      "Epoch 43/50\n",
      "720/720 [==============================] - 1s 2ms/step - loss: 1.1921e-07 - acc: 1.0000 - val_loss: 0.0948 - val_acc: 0.9778\n",
      "Epoch 44/50\n",
      "720/720 [==============================] - 1s 2ms/step - loss: 1.1921e-07 - acc: 1.0000 - val_loss: 0.0948 - val_acc: 0.9778\n",
      "Epoch 45/50\n",
      "720/720 [==============================] - 1s 2ms/step - loss: 1.1921e-07 - acc: 1.0000 - val_loss: 0.0948 - val_acc: 0.9778\n",
      "Epoch 46/50\n",
      "720/720 [==============================] - 1s 2ms/step - loss: 1.1921e-07 - acc: 1.0000 - val_loss: 0.0948 - val_acc: 0.9778\n",
      "Epoch 47/50\n",
      "720/720 [==============================] - 1s 2ms/step - loss: 1.1921e-07 - acc: 1.0000 - val_loss: 0.0948 - val_acc: 0.9778\n",
      "Epoch 48/50\n",
      "720/720 [==============================] - 1s 2ms/step - loss: 1.1921e-07 - acc: 1.0000 - val_loss: 0.0948 - val_acc: 0.9778\n",
      "Epoch 49/50\n",
      "720/720 [==============================] - 1s 2ms/step - loss: 1.1921e-07 - acc: 1.0000 - val_loss: 0.0948 - val_acc: 0.9778\n",
      "Epoch 50/50\n",
      "720/720 [==============================] - 1s 2ms/step - loss: 1.1921e-07 - acc: 1.0000 - val_loss: 0.0948 - val_acc: 0.9778\n"
     ]
    },
    {
     "data": {
      "text/plain": [
       "<keras.callbacks.History at 0x21f77bdbf28>"
      ]
     },
     "execution_count": 144,
     "metadata": {},
     "output_type": "execute_result"
    }
   ],
   "source": [
    "model.compile(optimizer='rmsprop',\n",
    "              loss='categorical_crossentropy',\n",
    "              metrics=['accuracy'])\n",
    "model.fit(x_train, y_train, epochs=50, batch_size=64, verbose=1, validation_data=(x_validate, y_validate))"
   ]
  },
  {
   "cell_type": "code",
   "execution_count": 145,
   "metadata": {},
   "outputs": [
    {
     "name": "stdout",
     "output_type": "stream",
     "text": [
      "90/90 [==============================] - 0s 978us/step\n",
      "Accuracy:0.9777777777777777\n"
     ]
    }
   ],
   "source": [
    "[loss, acc] = model.evaluate(x_validate,y_validate,verbose=1)\n",
    "print(\"Accuracy:\" + str(acc))"
   ]
  },
  {
   "cell_type": "code",
   "execution_count": 256,
   "metadata": {},
   "outputs": [],
   "source": [
    "new = Image.open('test/110.png')\n",
    "a = np.array(new)\n",
    "a = a/255\n",
    "a = a.reshape(1, 300, 300, 1)"
   ]
  },
  {
   "cell_type": "code",
   "execution_count": 257,
   "metadata": {},
   "outputs": [],
   "source": [
    "result = model.predict(a)"
   ]
  },
  {
   "cell_type": "code",
   "execution_count": 258,
   "metadata": {},
   "outputs": [
    {
     "data": {
      "text/plain": [
       "array([[9.9900275e-01, 9.8406861e-04, 2.5095383e-06, 2.5871447e-09,\n",
       "        1.0640510e-05, 1.3004777e-07]], dtype=float32)"
      ]
     },
     "execution_count": 258,
     "metadata": {},
     "output_type": "execute_result"
    }
   ],
   "source": [
    "result"
   ]
  },
  {
   "cell_type": "code",
   "execution_count": 259,
   "metadata": {},
   "outputs": [
    {
     "data": {
      "text/plain": [
       "{'fist': 0, 'index': 1, 'L': 2, 'ok': 3, 'palm': 4, 'peace': 5}"
      ]
     },
     "execution_count": 259,
     "metadata": {},
     "output_type": "execute_result"
    }
   ],
   "source": [
    "lookup"
   ]
  },
  {
   "cell_type": "code",
   "execution_count": 260,
   "metadata": {},
   "outputs": [],
   "source": [
    "label = {}"
   ]
  },
  {
   "cell_type": "code",
   "execution_count": 261,
   "metadata": {},
   "outputs": [],
   "source": [
    "for y, x in lookup.items():\n",
    "    label[x] = y"
   ]
  },
  {
   "cell_type": "code",
   "execution_count": 262,
   "metadata": {},
   "outputs": [
    {
     "data": {
      "text/plain": [
       "{0: 'fist', 1: 'index', 2: 'L', 3: 'ok', 4: 'palm', 5: 'peace'}"
      ]
     },
     "execution_count": 262,
     "metadata": {},
     "output_type": "execute_result"
    }
   ],
   "source": [
    "label"
   ]
  },
  {
   "cell_type": "code",
   "execution_count": 263,
   "metadata": {},
   "outputs": [],
   "source": [
    "l = np.where(result[0] == np.amax(result[0]))"
   ]
  },
  {
   "cell_type": "code",
   "execution_count": 264,
   "metadata": {},
   "outputs": [
    {
     "name": "stdout",
     "output_type": "stream",
     "text": [
      "fist\n"
     ]
    }
   ],
   "source": [
    "print(label[l[0][0]])"
   ]
  },
  {
   "cell_type": "code",
   "execution_count": 265,
   "metadata": {},
   "outputs": [
    {
     "name": "stdout",
     "output_type": "stream",
     "text": [
      "0.99900275\n"
     ]
    }
   ],
   "source": [
    "print(result[0][l][0])"
   ]
  },
  {
   "cell_type": "code",
   "execution_count": 266,
   "metadata": {},
   "outputs": [],
   "source": [
    "# serialize model to JSON\n",
    "model_json = model.to_json()\n",
    "with open(\"model.json\", \"w\") as json_file:\n",
    "    json_file.write(model_json)\n",
    "# serialize weights to HDF5\n",
    "model.save_weights(\"model.h5\")\n"
   ]
  },
  {
   "cell_type": "code",
   "execution_count": null,
   "metadata": {},
   "outputs": [],
   "source": []
  }
 ],
 "metadata": {
  "kernelspec": {
   "display_name": "Python 3",
   "language": "python",
   "name": "python3"
  },
  "language_info": {
   "codemirror_mode": {
    "name": "ipython",
    "version": 3
   },
   "file_extension": ".py",
   "mimetype": "text/x-python",
   "name": "python",
   "nbconvert_exporter": "python",
   "pygments_lexer": "ipython3",
   "version": "3.6.7"
  }
 },
 "nbformat": 4,
 "nbformat_minor": 2
}
